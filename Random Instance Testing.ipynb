{
 "cells": [
  {
   "cell_type": "code",
   "execution_count": 1,
   "metadata": {},
   "outputs": [],
   "source": [
    "from sudoku import Sudoku\n",
    "import pandas as pd"
   ]
  },
  {
   "cell_type": "code",
   "execution_count": 2,
   "metadata": {},
   "outputs": [],
   "source": [
    "#get main cnf file\n",
    "path = 'sudoku9.cnf'\n",
    "cnf =\"\"\n",
    "f = open(path, 'r')\n",
    "for line in f:\n",
    "    cnf+= line\n",
    "f.close()"
   ]
  },
  {
   "cell_type": "code",
   "execution_count": 3,
   "metadata": {},
   "outputs": [],
   "source": [
    "# Global Constants\n",
    "MIN_VARS = 1\n",
    "MAX_VARS = 25\n",
    "INSTANCES_PER_VAR = 100\n",
    "SUDOKU_DEGREE = 9"
   ]
  },
  {
   "cell_type": "code",
   "execution_count": 4,
   "metadata": {},
   "outputs": [],
   "source": [
    "frames = [] # will store dataframes for each variable"
   ]
  },
  {
   "cell_type": "code",
   "execution_count": 5,
   "metadata": {},
   "outputs": [
    {
     "data": {
      "text/html": [
       "<div>\n",
       "<style scoped>\n",
       "    .dataframe tbody tr th:only-of-type {\n",
       "        vertical-align: middle;\n",
       "    }\n",
       "\n",
       "    .dataframe tbody tr th {\n",
       "        vertical-align: top;\n",
       "    }\n",
       "\n",
       "    .dataframe thead th {\n",
       "        text-align: right;\n",
       "    }\n",
       "</style>\n",
       "<table border=\"1\" class=\"dataframe\">\n",
       "  <thead>\n",
       "    <tr style=\"text-align: right;\">\n",
       "      <th></th>\n",
       "      <th>board</th>\n",
       "      <th>solution</th>\n",
       "      <th>cnf</th>\n",
       "      <th>num_vars</th>\n",
       "    </tr>\n",
       "  </thead>\n",
       "  <tbody>\n",
       "    <tr>\n",
       "      <th>0</th>\n",
       "      <td>&lt;sudoku.Sudoku object at 0x112d2e748&gt;</td>\n",
       "      <td>NaN</td>\n",
       "      <td>085 0\\n</td>\n",
       "      <td>1</td>\n",
       "    </tr>\n",
       "    <tr>\n",
       "      <th>1</th>\n",
       "      <td>&lt;sudoku.Sudoku object at 0x114ddc4a8&gt;</td>\n",
       "      <td>NaN</td>\n",
       "      <td>803 0\\n</td>\n",
       "      <td>1</td>\n",
       "    </tr>\n",
       "    <tr>\n",
       "      <th>2</th>\n",
       "      <td>&lt;sudoku.Sudoku object at 0x114ddc4e0&gt;</td>\n",
       "      <td>NaN</td>\n",
       "      <td>747 0\\n</td>\n",
       "      <td>1</td>\n",
       "    </tr>\n",
       "    <tr>\n",
       "      <th>3</th>\n",
       "      <td>&lt;sudoku.Sudoku object at 0x114ddc518&gt;</td>\n",
       "      <td>NaN</td>\n",
       "      <td>617 0\\n</td>\n",
       "      <td>1</td>\n",
       "    </tr>\n",
       "    <tr>\n",
       "      <th>4</th>\n",
       "      <td>&lt;sudoku.Sudoku object at 0x114ddc550&gt;</td>\n",
       "      <td>NaN</td>\n",
       "      <td>738 0\\n</td>\n",
       "      <td>1</td>\n",
       "    </tr>\n",
       "  </tbody>\n",
       "</table>\n",
       "</div>"
      ],
      "text/plain": [
       "                                   board solution      cnf  num_vars\n",
       "0  <sudoku.Sudoku object at 0x112d2e748>      NaN  085 0\\n         1\n",
       "1  <sudoku.Sudoku object at 0x114ddc4a8>      NaN  803 0\\n         1\n",
       "2  <sudoku.Sudoku object at 0x114ddc4e0>      NaN  747 0\\n         1\n",
       "3  <sudoku.Sudoku object at 0x114ddc518>      NaN  617 0\\n         1\n",
       "4  <sudoku.Sudoku object at 0x114ddc550>      NaN  738 0\\n         1"
      ]
     },
     "execution_count": 5,
     "metadata": {},
     "output_type": "execute_result"
    }
   ],
   "source": [
    "frames = []\n",
    "for var in range(MIN_VARS, MAX_VARS):\n",
    "    boards = []\n",
    "    frame = pd.DataFrame(columns=['board', 'solution'])\n",
    "    for y in range(INSTANCES_PER_VAR):\n",
    "        board = Sudoku(SUDOKU_DEGREE)\n",
    "        board.randomize_board(var)\n",
    "        boards.append(board)\n",
    "    cnfs = [board.cnf_output() for board in boards]\n",
    "    frame['board'] = boards\n",
    "    frame['cnf'] = cnfs\n",
    "    frame['num_vars'] = var\n",
    "    frames.append(frame)\n",
    "frames = pd.DataFrame(pd.concat(frames))\n",
    "frames.head(5)"
   ]
  },
  {
   "cell_type": "code",
   "execution_count": 17,
   "metadata": {},
   "outputs": [],
   "source": [
    "def get_solution_from_cnf(cnf_string):\n",
    "    #do something here\n",
    "    cnf_string = cnf + cnf_string #append the whole cnf\n",
    "    return cnf_string[:3]+\"solution\""
   ]
  },
  {
   "cell_type": "code",
   "execution_count": 18,
   "metadata": {},
   "outputs": [],
   "source": [
    "frames['solution'] = frames['cnf'].apply(get_solution_from_cnf)"
   ]
  },
  {
   "cell_type": "code",
   "execution_count": 19,
   "metadata": {},
   "outputs": [
    {
     "data": {
      "text/html": [
       "<div>\n",
       "<style scoped>\n",
       "    .dataframe tbody tr th:only-of-type {\n",
       "        vertical-align: middle;\n",
       "    }\n",
       "\n",
       "    .dataframe tbody tr th {\n",
       "        vertical-align: top;\n",
       "    }\n",
       "\n",
       "    .dataframe thead th {\n",
       "        text-align: right;\n",
       "    }\n",
       "</style>\n",
       "<table border=\"1\" class=\"dataframe\">\n",
       "  <thead>\n",
       "    <tr style=\"text-align: right;\">\n",
       "      <th></th>\n",
       "      <th>board</th>\n",
       "      <th>solution</th>\n",
       "      <th>cnf</th>\n",
       "      <th>num_vars</th>\n",
       "    </tr>\n",
       "  </thead>\n",
       "  <tbody>\n",
       "    <tr>\n",
       "      <th>0</th>\n",
       "      <td>&lt;sudoku.Sudoku object at 0x112d2e748&gt;</td>\n",
       "      <td>111solution</td>\n",
       "      <td>085 0\\n</td>\n",
       "      <td>1</td>\n",
       "    </tr>\n",
       "    <tr>\n",
       "      <th>1</th>\n",
       "      <td>&lt;sudoku.Sudoku object at 0x114ddc4a8&gt;</td>\n",
       "      <td>111solution</td>\n",
       "      <td>803 0\\n</td>\n",
       "      <td>1</td>\n",
       "    </tr>\n",
       "    <tr>\n",
       "      <th>2</th>\n",
       "      <td>&lt;sudoku.Sudoku object at 0x114ddc4e0&gt;</td>\n",
       "      <td>111solution</td>\n",
       "      <td>747 0\\n</td>\n",
       "      <td>1</td>\n",
       "    </tr>\n",
       "    <tr>\n",
       "      <th>3</th>\n",
       "      <td>&lt;sudoku.Sudoku object at 0x114ddc518&gt;</td>\n",
       "      <td>111solution</td>\n",
       "      <td>617 0\\n</td>\n",
       "      <td>1</td>\n",
       "    </tr>\n",
       "    <tr>\n",
       "      <th>4</th>\n",
       "      <td>&lt;sudoku.Sudoku object at 0x114ddc550&gt;</td>\n",
       "      <td>111solution</td>\n",
       "      <td>738 0\\n</td>\n",
       "      <td>1</td>\n",
       "    </tr>\n",
       "  </tbody>\n",
       "</table>\n",
       "</div>"
      ],
      "text/plain": [
       "                                   board     solution      cnf  num_vars\n",
       "0  <sudoku.Sudoku object at 0x112d2e748>  111solution  085 0\\n         1\n",
       "1  <sudoku.Sudoku object at 0x114ddc4a8>  111solution  803 0\\n         1\n",
       "2  <sudoku.Sudoku object at 0x114ddc4e0>  111solution  747 0\\n         1\n",
       "3  <sudoku.Sudoku object at 0x114ddc518>  111solution  617 0\\n         1\n",
       "4  <sudoku.Sudoku object at 0x114ddc550>  111solution  738 0\\n         1"
      ]
     },
     "execution_count": 19,
     "metadata": {},
     "output_type": "execute_result"
    }
   ],
   "source": [
    "frames.head(5)"
   ]
  },
  {
   "cell_type": "raw",
   "metadata": {},
   "source": []
  }
 ],
 "metadata": {
  "kernelspec": {
   "display_name": "Python 3",
   "language": "python",
   "name": "python3"
  },
  "language_info": {
   "codemirror_mode": {
    "name": "ipython",
    "version": 3
   },
   "file_extension": ".py",
   "mimetype": "text/x-python",
   "name": "python",
   "nbconvert_exporter": "python",
   "pygments_lexer": "ipython3",
   "version": "3.6.4"
  }
 },
 "nbformat": 4,
 "nbformat_minor": 2
}
