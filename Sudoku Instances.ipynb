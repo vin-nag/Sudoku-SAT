{
 "cells": [
  {
   "cell_type": "code",
   "execution_count": 1,
   "metadata": {},
   "outputs": [],
   "source": [
    "import numpy as np\n",
    "import itertools as it\n",
    "#global size\n",
    "degree = 9"
   ]
  },
  {
   "cell_type": "code",
   "execution_count": 2,
   "metadata": {},
   "outputs": [],
   "source": [
    "class Sudoku:\n",
    "    \"\"\"\n",
    "    A class that represents a Sudoku board\n",
    "    The board is stored internally as a numpy array\n",
    "    Zeroes preresent blank spaces\n",
    "    \"\"\"\n",
    "    def __init__(self, degree, matrix=None):\n",
    "        self.degree = degree\n",
    "        if matrix is None: self.matrix = np.zeros((degree,degree), dtype='int')\n",
    "        else: self.matrix = matrix\n",
    "\n",
    "    @property       \n",
    "    def rows(self):\n",
    "        n = 0\n",
    "        while n < self.degree:\n",
    "            yield self.matrix[n]\n",
    "            n += 1\n",
    "\n",
    "    @property       \n",
    "    def columns(self):\n",
    "        n = 0\n",
    "        while n < self.degree:\n",
    "            yield self.matrix[:,n]\n",
    "            n += 1\n",
    "            \n",
    "    @property       \n",
    "    def squares(self):\n",
    "        square = int(np.sqrt(self.degree))\n",
    "        for i in range(square):\n",
    "            for j in range(square):\n",
    "                yield self.matrix[i*square:i*square+square,j*square:j*square+square]          \n",
    "            \n",
    "    def num_to_let(num):\n",
    "        return chr(ord('a') + num - 1)\n",
    "    \n",
    "    def cnf_output(self):\n",
    "        output = \"\"\n",
    "        for i in range(self.degree):\n",
    "            for j in range(self.degree):\n",
    "                num = self.matrix[i][j]\n",
    "                if num == 0: continue\n",
    "                output += \"{}{}{} 0\".format(i,j,num)\n",
    "                output += '\\n'\n",
    "        return output\n",
    "                \n",
    "    def randomize_board(self, num_cells):\n",
    "        for n in range(num_cells):\n",
    "            self._draw_random_number()\n",
    "        return\n",
    "                        \n",
    "    def _draw_random_number(self):\n",
    "        for n in range(10000): #in case of timeout\n",
    "            x = np.random.randint(0,self.degree) #high exclusive\n",
    "            y = np.random.randint(0,self.degree)\n",
    "            if self.matrix[x][y] != 0:\n",
    "                continue\n",
    "            self.matrix[x][y] = np.random.randint(1,self.degree+1)\n",
    "            break\n",
    "        else: raise Exception(\"Max exceeded\")"
   ]
  },
  {
   "cell_type": "markdown",
   "metadata": {},
   "source": [
    "<h1>Example Showing A Board and it's Properties</h1>"
   ]
  },
  {
   "cell_type": "code",
   "execution_count": 3,
   "metadata": {},
   "outputs": [
    {
     "name": "stdout",
     "output_type": "stream",
     "text": [
      "[[6 1 8 4 6 1 5 1 3]\n",
      " [8 9 6 9 6 9 2 6 3]\n",
      " [7 2 8 9 4 6 3 8 9]\n",
      " [9 9 4 9 5 4 1 8 4]\n",
      " [1 8 5 6 2 8 9 2 2]\n",
      " [8 8 6 6 9 4 7 5 2]\n",
      " [5 8 2 2 9 7 2 4 3]\n",
      " [6 2 7 9 5 4 9 5 4]\n",
      " [4 5 7 5 3 8 4 1 7]]\n"
     ]
    }
   ],
   "source": [
    "board = Sudoku(degree, np.random.randint(1,10,(degree,degree)))\n",
    "print (board.matrix)"
   ]
  },
  {
   "cell_type": "code",
   "execution_count": 4,
   "metadata": {},
   "outputs": [
    {
     "name": "stdout",
     "output_type": "stream",
     "text": [
      "Rows: \n",
      "[6 1 8 4 6 1 5 1 3]\n",
      "[8 9 6 9 6 9 2 6 3]\n",
      "[7 2 8 9 4 6 3 8 9]\n",
      "[9 9 4 9 5 4 1 8 4]\n",
      "[1 8 5 6 2 8 9 2 2]\n",
      "[8 8 6 6 9 4 7 5 2]\n",
      "[5 8 2 2 9 7 2 4 3]\n",
      "[6 2 7 9 5 4 9 5 4]\n",
      "[4 5 7 5 3 8 4 1 7]\n",
      "\n",
      "Columns: \n",
      "[6 8 7 9 1 8 5 6 4]\n",
      "[1 9 2 9 8 8 8 2 5]\n",
      "[8 6 8 4 5 6 2 7 7]\n",
      "[4 9 9 9 6 6 2 9 5]\n",
      "[6 6 4 5 2 9 9 5 3]\n",
      "[1 9 6 4 8 4 7 4 8]\n",
      "[5 2 3 1 9 7 2 9 4]\n",
      "[1 6 8 8 2 5 4 5 1]\n",
      "[3 3 9 4 2 2 3 4 7]\n",
      "\n",
      "Squares: \n",
      "[[6 1 8]\n",
      " [8 9 6]\n",
      " [7 2 8]]\n",
      "[[4 6 1]\n",
      " [9 6 9]\n",
      " [9 4 6]]\n",
      "[[5 1 3]\n",
      " [2 6 3]\n",
      " [3 8 9]]\n",
      "[[9 9 4]\n",
      " [1 8 5]\n",
      " [8 8 6]]\n",
      "[[9 5 4]\n",
      " [6 2 8]\n",
      " [6 9 4]]\n",
      "[[1 8 4]\n",
      " [9 2 2]\n",
      " [7 5 2]]\n",
      "[[5 8 2]\n",
      " [6 2 7]\n",
      " [4 5 7]]\n",
      "[[2 9 7]\n",
      " [9 5 4]\n",
      " [5 3 8]]\n",
      "[[2 4 3]\n",
      " [9 5 4]\n",
      " [4 1 7]]\n"
     ]
    }
   ],
   "source": [
    "print(\"Rows: \")\n",
    "for r in board.rows: print(r)\n",
    "print(\"\\nColumns: \")\n",
    "for c in board.columns: print(c)\n",
    "print(\"\\nSquares: \")\n",
    "for s in board.squares: print(s)"
   ]
  },
  {
   "cell_type": "markdown",
   "metadata": {},
   "source": [
    "<h1>Using the random function and the CNF output</h1>"
   ]
  },
  {
   "cell_type": "code",
   "execution_count": 12,
   "metadata": {},
   "outputs": [
    {
     "name": "stdout",
     "output_type": "stream",
     "text": [
      "[[0 0 0 0 0 0 0 0 0]\n",
      " [0 0 0 0 0 0 0 0 0]\n",
      " [0 0 0 0 0 0 0 0 0]\n",
      " [0 0 0 0 0 0 0 0 0]\n",
      " [0 0 0 0 0 0 0 0 0]\n",
      " [0 0 0 0 0 0 0 0 0]\n",
      " [0 0 0 0 0 0 0 0 0]\n",
      " [0 0 0 0 0 0 0 0 0]\n",
      " [0 0 0 0 0 0 0 0 0]]\n"
     ]
    }
   ],
   "source": [
    "# init a blank board\n",
    "test = Sudoku(9)\n",
    "print(test.matrix)"
   ]
  },
  {
   "cell_type": "code",
   "execution_count": 13,
   "metadata": {},
   "outputs": [
    {
     "name": "stdout",
     "output_type": "stream",
     "text": [
      "[[0 0 0 0 0 0 0 0 0]\n",
      " [0 0 0 0 0 2 0 0 0]\n",
      " [0 0 0 0 0 0 0 0 9]\n",
      " [0 0 0 0 0 0 0 0 0]\n",
      " [0 0 0 8 0 0 0 0 0]\n",
      " [0 0 0 0 0 0 0 0 0]\n",
      " [0 0 0 0 0 0 0 5 0]\n",
      " [0 0 0 0 0 0 9 0 0]\n",
      " [0 0 0 0 0 9 0 0 0]]\n"
     ]
    }
   ],
   "source": [
    "# randomize some numbers\n",
    "test.randomize_board(6)\n",
    "print(test.matrix)"
   ]
  },
  {
   "cell_type": "code",
   "execution_count": 14,
   "metadata": {},
   "outputs": [
    {
     "name": "stdout",
     "output_type": "stream",
     "text": [
      "152 0\n",
      "289 0\n",
      "438 0\n",
      "675 0\n",
      "769 0\n",
      "859 0\n",
      "\n"
     ]
    }
   ],
   "source": [
    "# show the CNF output\n",
    "print(test.cnf_output())"
   ]
  },
  {
   "cell_type": "code",
   "execution_count": null,
   "metadata": {},
   "outputs": [],
   "source": []
  }
 ],
 "metadata": {
  "kernelspec": {
   "display_name": "Python 3",
   "language": "python",
   "name": "python3"
  },
  "language_info": {
   "codemirror_mode": {
    "name": "ipython",
    "version": 3
   },
   "file_extension": ".py",
   "mimetype": "text/x-python",
   "name": "python",
   "nbconvert_exporter": "python",
   "pygments_lexer": "ipython3",
   "version": "3.6.4"
  }
 },
 "nbformat": 4,
 "nbformat_minor": 2
}
