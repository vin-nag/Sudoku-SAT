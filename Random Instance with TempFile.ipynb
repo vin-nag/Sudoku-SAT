{
 "cells": [
  {
   "cell_type": "code",
   "execution_count": 3,
   "metadata": {},
   "outputs": [],
   "source": [
    "from sudoku import Sudoku\n",
    "import pandas as pd\n",
    "import subprocess\n",
    "import tempfile"
   ]
  },
  {
   "cell_type": "code",
   "execution_count": 4,
   "metadata": {},
   "outputs": [],
   "source": [
    "#get main cnf file\n",
    "path = 'sudoku9.cnf'\n",
    "cnf =\"\"\n",
    "f = open(path, 'r')\n",
    "for line in f:\n",
    "    cnf+= line\n",
    "f.close()"
   ]
  },
  {
   "cell_type": "code",
   "execution_count": 5,
   "metadata": {},
   "outputs": [],
   "source": [
    "# Global Constants\n",
    "MIN_VARS = 1\n",
    "MAX_VARS = 2\n",
    "INSTANCES_PER_VAR = 1\n",
    "SUDOKU_DEGREE = 9\n",
    "VAR_COUNT = int(str(SUDOKU_DEGREE) + str(SUDOKU_DEGREE) + str(SUDOKU_DEGREE))"
   ]
  },
  {
   "cell_type": "code",
   "execution_count": 6,
   "metadata": {},
   "outputs": [],
   "source": [
    "frames = [] # will store dataframes for each variable"
   ]
  },
  {
   "cell_type": "code",
   "execution_count": 7,
   "metadata": {},
   "outputs": [
    {
     "data": {
      "text/html": [
       "<div>\n",
       "<style scoped>\n",
       "    .dataframe tbody tr th:only-of-type {\n",
       "        vertical-align: middle;\n",
       "    }\n",
       "\n",
       "    .dataframe tbody tr th {\n",
       "        vertical-align: top;\n",
       "    }\n",
       "\n",
       "    .dataframe thead th {\n",
       "        text-align: right;\n",
       "    }\n",
       "</style>\n",
       "<table border=\"1\" class=\"dataframe\">\n",
       "  <thead>\n",
       "    <tr style=\"text-align: right;\">\n",
       "      <th></th>\n",
       "      <th>board</th>\n",
       "      <th>solution</th>\n",
       "      <th>cnf</th>\n",
       "      <th>num_vars</th>\n",
       "    </tr>\n",
       "  </thead>\n",
       "  <tbody>\n",
       "    <tr>\n",
       "      <th>0</th>\n",
       "      <td>&lt;sudoku.Sudoku object at 0x7f837bc86080&gt;</td>\n",
       "      <td>NaN</td>\n",
       "      <td>607 0\\n</td>\n",
       "      <td>1</td>\n",
       "    </tr>\n",
       "    <tr>\n",
       "      <th>1</th>\n",
       "      <td>&lt;sudoku.Sudoku object at 0x7f834813cba8&gt;</td>\n",
       "      <td>NaN</td>\n",
       "      <td>666 0\\n</td>\n",
       "      <td>1</td>\n",
       "    </tr>\n",
       "    <tr>\n",
       "      <th>2</th>\n",
       "      <td>&lt;sudoku.Sudoku object at 0x7f834813cc18&gt;</td>\n",
       "      <td>NaN</td>\n",
       "      <td>275 0\\n</td>\n",
       "      <td>1</td>\n",
       "    </tr>\n",
       "    <tr>\n",
       "      <th>3</th>\n",
       "      <td>&lt;sudoku.Sudoku object at 0x7f834813cc50&gt;</td>\n",
       "      <td>NaN</td>\n",
       "      <td>506 0\\n</td>\n",
       "      <td>1</td>\n",
       "    </tr>\n",
       "    <tr>\n",
       "      <th>4</th>\n",
       "      <td>&lt;sudoku.Sudoku object at 0x7f834813cc88&gt;</td>\n",
       "      <td>NaN</td>\n",
       "      <td>062 0\\n</td>\n",
       "      <td>1</td>\n",
       "    </tr>\n",
       "  </tbody>\n",
       "</table>\n",
       "</div>"
      ],
      "text/plain": [
       "                                      board solution      cnf  num_vars\n",
       "0  <sudoku.Sudoku object at 0x7f837bc86080>      NaN  607 0\\n         1\n",
       "1  <sudoku.Sudoku object at 0x7f834813cba8>      NaN  666 0\\n         1\n",
       "2  <sudoku.Sudoku object at 0x7f834813cc18>      NaN  275 0\\n         1\n",
       "3  <sudoku.Sudoku object at 0x7f834813cc50>      NaN  506 0\\n         1\n",
       "4  <sudoku.Sudoku object at 0x7f834813cc88>      NaN  062 0\\n         1"
      ]
     },
     "execution_count": 7,
     "metadata": {},
     "output_type": "execute_result"
    }
   ],
   "source": [
    "frames = []\n",
    "for var in range(MIN_VARS, MAX_VARS):\n",
    "    boards = []\n",
    "    frame = pd.DataFrame(columns=['board', 'solution'])\n",
    "    for y in range(INSTANCES_PER_VAR):\n",
    "        board = Sudoku(SUDOKU_DEGREE)\n",
    "        board.randomize_board(var)\n",
    "        boards.append(board)\n",
    "    cnfs = [board.cnf_output() for board in boards]\n",
    "    frame['board'] = boards\n",
    "    frame['cnf'] = cnfs\n",
    "    frame['num_vars'] = var\n",
    "    frames.append(frame)\n",
    "frames = pd.DataFrame(pd.concat(frames))\n",
    "frames.head(5)"
   ]
  },
  {
   "cell_type": "code",
   "execution_count": 15,
   "metadata": {},
   "outputs": [],
   "source": [
    "def get_solution_from_cnf(cnf_string):\n",
    "    \n",
    "    cnf_string = cnf + cnf_string #append the whole cnf\n",
    "    \n",
    "    bashCommand = 'minisat %s %s' # command to run on the terminal\n",
    "    \n",
    "     # Our temporary input/output files \n",
    "    input_file = tempfile.NamedTemporaryFile(mode=\"w\")\n",
    "    output_file = tempfile.NamedTemporaryFile()\n",
    "    \n",
    "    # Count number of clauses\n",
    "    clause_count = len(cnf_string.splitlines())\n",
    "    \n",
    "    # writes the file with DIMACS suitable header\n",
    "    input_file.write(\"p cnf \" + str(VAR_COUNT) + \" \" + str(clause_count) + \"\\n\" + cnf_string)\n",
    " \n",
    "    # call the bash terminal\n",
    "    subprocess.call(bashCommand % (input_file.name, output_file.name), shell=True, stdout = subprocess.PIPE)\n",
    "    \n",
    "    input_file.close()\n",
    "    \n",
    "    return output_file.read().decode(\"utf-8\") "
   ]
  },
  {
   "cell_type": "code",
   "execution_count": 16,
   "metadata": {},
   "outputs": [
    {
     "name": "stdout",
     "output_type": "stream",
     "text": [
      "CPU times: user 2.26 s, sys: 4.5 s, total: 6.76 s\n",
      "Wall time: 8.74 s\n"
     ]
    }
   ],
   "source": [
    "%%time\n",
    "frames['solution'] = frames['cnf'].apply(get_solution_from_cnf)"
   ]
  },
  {
   "cell_type": "code",
   "execution_count": 20,
   "metadata": {},
   "outputs": [
    {
     "data": {
      "text/html": [
       "<div>\n",
       "<style scoped>\n",
       "    .dataframe tbody tr th:only-of-type {\n",
       "        vertical-align: middle;\n",
       "    }\n",
       "\n",
       "    .dataframe tbody tr th {\n",
       "        vertical-align: top;\n",
       "    }\n",
       "\n",
       "    .dataframe thead th {\n",
       "        text-align: right;\n",
       "    }\n",
       "</style>\n",
       "<table border=\"1\" class=\"dataframe\">\n",
       "  <thead>\n",
       "    <tr style=\"text-align: right;\">\n",
       "      <th></th>\n",
       "      <th>board</th>\n",
       "      <th>solution</th>\n",
       "      <th>cnf</th>\n",
       "      <th>num_vars</th>\n",
       "    </tr>\n",
       "  </thead>\n",
       "  <tbody>\n",
       "    <tr>\n",
       "      <th>0</th>\n",
       "      <td>&lt;sudoku.Sudoku object at 0x7f837bc86080&gt;</td>\n",
       "      <td></td>\n",
       "      <td>607 0\\n</td>\n",
       "      <td>1</td>\n",
       "    </tr>\n",
       "    <tr>\n",
       "      <th>1</th>\n",
       "      <td>&lt;sudoku.Sudoku object at 0x7f834813cba8&gt;</td>\n",
       "      <td></td>\n",
       "      <td>666 0\\n</td>\n",
       "      <td>1</td>\n",
       "    </tr>\n",
       "    <tr>\n",
       "      <th>2</th>\n",
       "      <td>&lt;sudoku.Sudoku object at 0x7f834813cc18&gt;</td>\n",
       "      <td></td>\n",
       "      <td>275 0\\n</td>\n",
       "      <td>1</td>\n",
       "    </tr>\n",
       "    <tr>\n",
       "      <th>3</th>\n",
       "      <td>&lt;sudoku.Sudoku object at 0x7f834813cc50&gt;</td>\n",
       "      <td></td>\n",
       "      <td>506 0\\n</td>\n",
       "      <td>1</td>\n",
       "    </tr>\n",
       "    <tr>\n",
       "      <th>4</th>\n",
       "      <td>&lt;sudoku.Sudoku object at 0x7f834813cc88&gt;</td>\n",
       "      <td></td>\n",
       "      <td>062 0\\n</td>\n",
       "      <td>1</td>\n",
       "    </tr>\n",
       "  </tbody>\n",
       "</table>\n",
       "</div>"
      ],
      "text/plain": [
       "                                      board solution      cnf  num_vars\n",
       "0  <sudoku.Sudoku object at 0x7f837bc86080>           607 0\\n         1\n",
       "1  <sudoku.Sudoku object at 0x7f834813cba8>           666 0\\n         1\n",
       "2  <sudoku.Sudoku object at 0x7f834813cc18>           275 0\\n         1\n",
       "3  <sudoku.Sudoku object at 0x7f834813cc50>           506 0\\n         1\n",
       "4  <sudoku.Sudoku object at 0x7f834813cc88>           062 0\\n         1"
      ]
     },
     "execution_count": 20,
     "metadata": {},
     "output_type": "execute_result"
    }
   ],
   "source": [
    "frames.head(5)"
   ]
  },
  {
   "cell_type": "code",
   "execution_count": 126,
   "metadata": {},
   "outputs": [],
   "source": []
  },
  {
   "cell_type": "code",
   "execution_count": 125,
   "metadata": {},
   "outputs": [],
   "source": []
  },
  {
   "cell_type": "code",
   "execution_count": null,
   "metadata": {},
   "outputs": [],
   "source": []
  },
  {
   "cell_type": "raw",
   "metadata": {},
   "source": []
  }
 ],
 "metadata": {
  "kernelspec": {
   "display_name": "Python 3",
   "language": "python",
   "name": "python3"
  },
  "language_info": {
   "codemirror_mode": {
    "name": "ipython",
    "version": 3
   },
   "file_extension": ".py",
   "mimetype": "text/x-python",
   "name": "python",
   "nbconvert_exporter": "python",
   "pygments_lexer": "ipython3",
   "version": "3.5.2"
  }
 },
 "nbformat": 4,
 "nbformat_minor": 2
}
