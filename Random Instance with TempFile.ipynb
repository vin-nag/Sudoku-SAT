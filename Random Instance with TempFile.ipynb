{
 "cells": [
  {
   "cell_type": "code",
   "execution_count": 1,
   "metadata": {},
   "outputs": [],
   "source": [
    "from __future__ import division\n",
    "from sudoku import Sudoku\n",
    "import pandas as pd\n",
    "import subprocess\n",
    "import tempfile\n",
    "import matplotlib.pyplot as plt\n",
    "import numpy as np\n",
    "from matplotlib.ticker import PercentFormatter\n",
    "%matplotlib inline"
   ]
  },
  {
   "cell_type": "code",
   "execution_count": 3,
   "metadata": {},
   "outputs": [],
   "source": [
    "# Global Constants\n",
    "MIN_VARS = 1\n",
    "MAX_VARS = 25\n",
    "INSTANCES_PER_VAR = 100\n",
    "NUM_VARS = MAX_VARS-MIN_VARS+1\n",
    "SUDOKU_DEGREE = 9\n",
    "VAR_COUNT = int(str(SUDOKU_DEGREE) + str(SUDOKU_DEGREE) + str(SUDOKU_DEGREE))"
   ]
  },
  {
   "cell_type": "code",
   "execution_count": 4,
   "metadata": {},
   "outputs": [],
   "source": [
    "#get main cnf file\n",
    "path = 'sudoku9.cnf'\n",
    "cnf = \"\"\n",
    "\n",
    "with open(path) as f:\n",
    "    for line in f:\n",
    "        cnf+=line"
   ]
  },
  {
   "cell_type": "code",
   "execution_count": 5,
   "metadata": {},
   "outputs": [
    {
     "data": {
      "text/html": [
       "<div>\n",
       "<style scoped>\n",
       "    .dataframe tbody tr th:only-of-type {\n",
       "        vertical-align: middle;\n",
       "    }\n",
       "\n",
       "    .dataframe tbody tr th {\n",
       "        vertical-align: top;\n",
       "    }\n",
       "\n",
       "    .dataframe thead th {\n",
       "        text-align: right;\n",
       "    }\n",
       "</style>\n",
       "<table border=\"1\" class=\"dataframe\">\n",
       "  <thead>\n",
       "    <tr style=\"text-align: right;\">\n",
       "      <th></th>\n",
       "      <th>board</th>\n",
       "      <th>solution</th>\n",
       "      <th>cnf</th>\n",
       "      <th>k</th>\n",
       "      <th>n</th>\n",
       "    </tr>\n",
       "  </thead>\n",
       "  <tbody>\n",
       "    <tr>\n",
       "      <th>0</th>\n",
       "      <td>&lt;sudoku.Sudoku object at 0x7f735be705c0&gt;</td>\n",
       "      <td>NaN</td>\n",
       "      <td>473 0\\n</td>\n",
       "      <td>1</td>\n",
       "      <td>9</td>\n",
       "    </tr>\n",
       "    <tr>\n",
       "      <th>1</th>\n",
       "      <td>&lt;sudoku.Sudoku object at 0x7f7335801dd8&gt;</td>\n",
       "      <td>NaN</td>\n",
       "      <td>177 0\\n</td>\n",
       "      <td>1</td>\n",
       "      <td>9</td>\n",
       "    </tr>\n",
       "    <tr>\n",
       "      <th>2</th>\n",
       "      <td>&lt;sudoku.Sudoku object at 0x7f7335801e48&gt;</td>\n",
       "      <td>NaN</td>\n",
       "      <td>119 0\\n</td>\n",
       "      <td>1</td>\n",
       "      <td>9</td>\n",
       "    </tr>\n",
       "    <tr>\n",
       "      <th>3</th>\n",
       "      <td>&lt;sudoku.Sudoku object at 0x7f7335801e80&gt;</td>\n",
       "      <td>NaN</td>\n",
       "      <td>448 0\\n</td>\n",
       "      <td>1</td>\n",
       "      <td>9</td>\n",
       "    </tr>\n",
       "    <tr>\n",
       "      <th>4</th>\n",
       "      <td>&lt;sudoku.Sudoku object at 0x7f7335801eb8&gt;</td>\n",
       "      <td>NaN</td>\n",
       "      <td>034 0\\n</td>\n",
       "      <td>1</td>\n",
       "      <td>9</td>\n",
       "    </tr>\n",
       "  </tbody>\n",
       "</table>\n",
       "</div>"
      ],
      "text/plain": [
       "<div>\n",
       "<style scoped>\n",
       "    .dataframe tbody tr th:only-of-type {\n",
       "        vertical-align: middle;\n",
       "    }\n",
       "\n",
       "    .dataframe tbody tr th {\n",
       "        vertical-align: top;\n",
       "    }\n",
       "\n",
       "    .dataframe thead th {\n",
       "        text-align: right;\n",
       "    }\n",
       "</style>\n",
       "<table border=\"1\" class=\"dataframe\">\n",
       "  <thead>\n",
       "    <tr style=\"text-align: right;\">\n",
       "      <th></th>\n",
       "      <th>board</th>\n",
       "      <th>solution</th>\n",
       "      <th>cnf</th>\n",
       "      <th>k</th>\n",
       "      <th>n</th>\n",
       "    </tr>\n",
       "  </thead>\n",
       "  <tbody>\n",
       "    <tr>\n",
       "      <th>0</th>\n",
       "      <td>&lt;sudoku.Sudoku object at 0x7f735be705c0&gt;</td>\n",
       "      <td>NaN</td>\n",
       "      <td>473 0\\n</td>\n",
       "      <td>1</td>\n",
       "      <td>9</td>\n",
       "    </tr>\n",
       "    <tr>\n",
       "      <th>1</th>\n",
       "      <td>&lt;sudoku.Sudoku object at 0x7f7335801dd8&gt;</td>\n",
       "      <td>NaN</td>\n",
       "      <td>177 0\\n</td>\n",
       "      <td>1</td>\n",
       "      <td>9</td>\n",
       "    </tr>\n",
       "    <tr>\n",
       "      <th>2</th>\n",
       "      <td>&lt;sudoku.Sudoku object at 0x7f7335801e48&gt;</td>\n",
       "      <td>NaN</td>\n",
       "      <td>119 0\\n</td>\n",
       "      <td>1</td>\n",
       "      <td>9</td>\n",
       "    </tr>\n",
       "    <tr>\n",
       "      <th>3</th>\n",
       "      <td>&lt;sudoku.Sudoku object at 0x7f7335801e80&gt;</td>\n",
       "      <td>NaN</td>\n",
       "      <td>448 0\\n</td>\n",
       "      <td>1</td>\n",
       "      <td>9</td>\n",
       "    </tr>\n",
       "    <tr>\n",
       "      <th>4</th>\n",
       "      <td>&lt;sudoku.Sudoku object at 0x7f7335801eb8&gt;</td>\n",
       "      <td>NaN</td>\n",
       "      <td>034 0\\n</td>\n",
       "      <td>1</td>\n",
       "      <td>9</td>\n",
       "    </tr>\n",
       "  </tbody>\n",
       "</table>\n",
       "</div>"
      ]
     },
     "execution_count": 5,
     "metadata": {},
     "output_type": "execute_result"
    }
   ],
   "source": [
    "frames = []\n",
    "for var in range(MIN_VARS, MAX_VARS):\n",
    "    boards = []\n",
    "    frame = pd.DataFrame(columns=['board', 'solution'])\n",
    "    for y in range(INSTANCES_PER_VAR):\n",
    "        board = Sudoku(SUDOKU_DEGREE)\n",
    "        board.randomize_board(var)\n",
    "        boards.append(board)\n",
    "    cnfs = [board.cnf_output() for board in boards]\n",
    "    frame['board'] = boards\n",
    "    frame['cnf'] = cnfs\n",
    "    frame['k'] = var\n",
    "    frame['n'] = SUDOKU_DEGREE\n",
    "    frames.append(frame)\n",
    "frames = pd.DataFrame(pd.concat(frames))\n",
    "frames.head(5)"
   ]
  },
  {
   "cell_type": "code",
   "execution_count": 6,
   "metadata": {},
   "outputs": [],
   "source": [
    "def get_solution_from_cnf(cnf_string):\n",
    "    \n",
    "    cnf_string = cnf + cnf_string #append the whole cnf\n",
    "    \n",
    "    bashCommand = 'minisat %s %s' # command to run on the terminal\n",
    "    \n",
    "     # Our temporary input/output files \n",
    "    input_file = tempfile.NamedTemporaryFile(mode=\"w\")\n",
    "    output_file = tempfile.NamedTemporaryFile()\n",
    "    \n",
    "    # Count number of clauses\n",
    "    clause_count = len(cnf_string.splitlines())\n",
    "    \n",
    "    # writes the file with DIMACS suitable header\n",
    "    input_file.write(\"p cnf \" + str(VAR_COUNT) + \" \" + str(clause_count) + \"\\n\" + cnf_string)\n",
    " \n",
    "    # call the bash terminal\n",
    "    subprocess.call(bashCommand % (input_file.name, output_file.name), shell=True, stdout = subprocess.PIPE)\n",
    "    \n",
    "    input_file.close()\n",
    "    \n",
    "    return output_file.read().decode(\"utf-8\") "
   ]
  },
  {
   "cell_type": "code",
   "execution_count": 8,
   "metadata": {},
   "outputs": [
    {
     "name": "stdout",
     "output_type": "stream",
     "text": [
      "CPU times: user 3.02 s, sys: 5.4 s, total: 8.42 s\nWall time: 27.2 s\n"
     ]
    }
   ],
   "source": [
    "%%time\n",
    "frames['solution'] = frames['cnf'].apply(get_solution_from_cnf)"
   ]
  },
  {
   "cell_type": "code",
   "execution_count": 10,
   "metadata": {},
   "outputs": [],
   "source": [
    "# Dropping unneeded columns and getting the required values\n",
    "\n",
    "frames2 = frames.drop(columns=['board','cnf','n'])\n",
    "frames2 = frames2.loc[frames2['solution'] == 'UNSAT\\n']\n",
    "frames2 = frames2.drop(['solution'])\n",
    "\n",
    "total = [INSTANCES_PER_VAR]*NUM_VARS\n",
    "\n",
    "unsat = frames2['k'].value_counts()\n",
    "\n",
    "result = [0]*(NUM_VARS)\n",
    "\n",
    "for key, value in unsat.iteritems():\n",
    "    result[key] = value/total[key]"
   ]
  },
  {
   "cell_type": "code",
   "execution_count": 11,
   "metadata": {},
   "outputs": [
    {
     "data": {
      "text/plain": [
       "[<matplotlib.lines.Line2D at 0x7f73356cba58>]"
      ]
     },
     "execution_count": 11,
     "metadata": {},
     "output_type": "execute_result"
    },
    {
     "data": {
      "image/png": "[encoded data removed]",
      "text/plain": [
       "<Figure size 432x288 with 1 Axes>"
      ]
     },
     "metadata": {},
     "output_type": "display_data"
    }
   ],
   "source": [
    "# Plotting Results\n",
    "fig, ax = plt.subplots()\n",
    "\n",
    "ax.yaxis.set_major_formatter(PercentFormatter())\n",
    "\n",
    "ax.set(xlabel='K-Values (#)', ylabel='Unsatisfiable Boards (%)',\n",
    "       title='Threshold Plotting for Sudoku SAT (N='+str(SUDOKU_DEGREE)+')')\n",
    "\n",
    "ax.grid()\n",
    "\n",
    "ax.plot(result)"
   ]
  },
  {
   "cell_type": "code",
   "execution_count": 97,
   "metadata": {},
   "outputs": [],
   "source": [
    ""
   ]
  },
  {
   "cell_type": "code",
   "execution_count": 12,
   "metadata": {},
   "outputs": [],
   "source": [
    ""
   ]
  },
  {
   "cell_type": "code",
   "execution_count": null,
   "metadata": {},
   "outputs": [],
   "source": []
  },
  {
   "cell_type": "raw",
   "metadata": {},
   "source": []
  }
 ],
 "metadata": {
  "kernelspec": {
   "display_name": "Python 3",
   "language": "python",
   "name": "python3"
  },
  "language_info": {
   "codemirror_mode": {
    "name": "ipython",
    "version": 3
   },
   "file_extension": ".py",
   "mimetype": "text/x-python",
   "name": "python",
   "nbconvert_exporter": "python",
   "pygments_lexer": "ipython3",
   "version": "3.5.2"
  }
 },
 "nbformat": 4,
 "nbformat_minor": 2
}
