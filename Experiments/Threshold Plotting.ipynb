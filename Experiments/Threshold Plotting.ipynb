{
 "cells": [
  {
   "cell_type": "markdown",
   "metadata": {},
   "source": [
    "<center> <h1> Threshold Plotter</h1> \n",
    "Bishop, Robert; Graves, Caleb; and Nagisetty, Vineel\n",
    "</center>"
   ]
  },
  {
   "cell_type": "markdown",
   "metadata": {},
   "source": [
    "This notebook file is intended to plot thresholds"
   ]
  },
  {
   "cell_type": "code",
   "execution_count": 1,
   "metadata": {},
   "outputs": [],
   "source": [
    "# Import Generation and Reduction programs and other necessary programs for the Solver\n",
    "from __future__ import division\n",
    "from Model.sudoku import Sudoku\n",
    "import pandas as pd\n",
    "import subprocess\n",
    "import tempfile\n",
    "import matplotlib.pyplot as plt\n",
    "from matplotlib.ticker import PercentFormatter\n",
    "%matplotlib inline"
   ]
  },
  {
   "cell_type": "code",
   "execution_count": 2,
   "metadata": {},
   "outputs": [],
   "source": [
    "# Global Constants\n",
    "MIN_VARS = 1\n",
    "MAX_VARS = 25\n",
    "INSTANCES_PER_VAR = 100\n",
    "NUM_VARS = MAX_VARS-MIN_VARS+1\n",
    "SUDOKU_DEGREE = 9\n",
    "VAR_COUNT = int(str(SUDOKU_DEGREE) + str(SUDOKU_DEGREE) + str(SUDOKU_DEGREE))"
   ]
  },
  {
   "cell_type": "code",
   "execution_count": 3,
   "metadata": {},
   "outputs": [],
   "source": [
    "#get main cnf file\n",
    "path = 'CNF/sudoku9.cnf'\n",
    "cnf = \"\"\n",
    "\n",
    "with open(path) as f:\n",
    "    for line in f:\n",
    "        cnf+=line"
   ]
  },
  {
   "cell_type": "code",
   "execution_count": 4,
   "metadata": {},
   "outputs": [
    {
     "data": {
      "text/html": [
       "<div>\n",
       "<style scoped>\n",
       "    .dataframe tbody tr th:only-of-type {\n",
       "        vertical-align: middle;\n",
       "    }\n",
       "\n",
       "    .dataframe tbody tr th {\n",
       "        vertical-align: top;\n",
       "    }\n",
       "\n",
       "    .dataframe thead th {\n",
       "        text-align: right;\n",
       "    }\n",
       "</style>\n",
       "<table border=\"1\" class=\"dataframe\">\n",
       "  <thead>\n",
       "    <tr style=\"text-align: right;\">\n",
       "      <th></th>\n",
       "      <th>board</th>\n",
       "      <th>solution</th>\n",
       "      <th>cnf</th>\n",
       "      <th>k</th>\n",
       "      <th>n</th>\n",
       "    </tr>\n",
       "  </thead>\n",
       "  <tbody>\n",
       "    <tr>\n",
       "      <th>0</th>\n",
       "      <td>&lt;Model.sudoku.Sudoku object at 0x7f0822b4b7b8&gt;</td>\n",
       "      <td>NaN</td>\n",
       "      <td>025 0\\n</td>\n",
       "      <td>1</td>\n",
       "      <td>9</td>\n",
       "    </tr>\n",
       "    <tr>\n",
       "      <th>1</th>\n",
       "      <td>&lt;Model.sudoku.Sudoku object at 0x7f08004de668&gt;</td>\n",
       "      <td>NaN</td>\n",
       "      <td>501 0\\n</td>\n",
       "      <td>1</td>\n",
       "      <td>9</td>\n",
       "    </tr>\n",
       "    <tr>\n",
       "      <th>2</th>\n",
       "      <td>&lt;Model.sudoku.Sudoku object at 0x7f08004de6d8&gt;</td>\n",
       "      <td>NaN</td>\n",
       "      <td>603 0\\n</td>\n",
       "      <td>1</td>\n",
       "      <td>9</td>\n",
       "    </tr>\n",
       "    <tr>\n",
       "      <th>3</th>\n",
       "      <td>&lt;Model.sudoku.Sudoku object at 0x7f08004de710&gt;</td>\n",
       "      <td>NaN</td>\n",
       "      <td>223 0\\n</td>\n",
       "      <td>1</td>\n",
       "      <td>9</td>\n",
       "    </tr>\n",
       "    <tr>\n",
       "      <th>4</th>\n",
       "      <td>&lt;Model.sudoku.Sudoku object at 0x7f08004de748&gt;</td>\n",
       "      <td>NaN</td>\n",
       "      <td>035 0\\n</td>\n",
       "      <td>1</td>\n",
       "      <td>9</td>\n",
       "    </tr>\n",
       "  </tbody>\n",
       "</table>\n",
       "</div>"
      ],
      "text/plain": [
       "                                            board solution      cnf  k  n\n",
       "0  <Model.sudoku.Sudoku object at 0x7f0822b4b7b8>      NaN  025 0\\n  1  9\n",
       "1  <Model.sudoku.Sudoku object at 0x7f08004de668>      NaN  501 0\\n  1  9\n",
       "2  <Model.sudoku.Sudoku object at 0x7f08004de6d8>      NaN  603 0\\n  1  9\n",
       "3  <Model.sudoku.Sudoku object at 0x7f08004de710>      NaN  223 0\\n  1  9\n",
       "4  <Model.sudoku.Sudoku object at 0x7f08004de748>      NaN  035 0\\n  1  9"
      ]
     },
     "execution_count": 4,
     "metadata": {},
     "output_type": "execute_result"
    }
   ],
   "source": [
    "frames = []\n",
    "for var in range(MIN_VARS, MAX_VARS):\n",
    "    boards = []\n",
    "    frame = pd.DataFrame(columns=['board', 'solution'])\n",
    "    for y in range(INSTANCES_PER_VAR):\n",
    "        board = Sudoku(SUDOKU_DEGREE)\n",
    "        board.randomize_board(var)\n",
    "        boards.append(board)\n",
    "    cnfs = [board.cnf_output() for board in boards]\n",
    "    frame['board'] = boards\n",
    "    frame['cnf'] = cnfs\n",
    "    frame['k'] = var\n",
    "    frame['n'] = SUDOKU_DEGREE\n",
    "    frames.append(frame)\n",
    "frames = pd.DataFrame(pd.concat(frames))\n",
    "frames.head(5)"
   ]
  },
  {
   "cell_type": "code",
   "execution_count": 5,
   "metadata": {},
   "outputs": [],
   "source": [
    "def get_solution_from_cnf(cnf_string):\n",
    "    \n",
    "    cnf_string = cnf + cnf_string #append the whole cnf\n",
    "    \n",
    "    bashCommand = 'minisat %s %s' # command to run on the terminal\n",
    "    \n",
    "     # Our temporary input/output files \n",
    "    input_file = tempfile.NamedTemporaryFile(mode=\"w\")\n",
    "    output_file = tempfile.NamedTemporaryFile()\n",
    "    \n",
    "    # Count number of clauses\n",
    "    clause_count = len(cnf_string.splitlines())\n",
    "    \n",
    "    # writes the file with DIMACS suitable header\n",
    "    input_file.write(\"p cnf \" + str(VAR_COUNT) + \" \" + str(clause_count) + \"\\n\" + cnf_string)\n",
    " \n",
    "    # call the bash terminal\n",
    "    subprocess.call(bashCommand % (input_file.name, output_file.name), shell=True, stdout = subprocess.PIPE)\n",
    "    \n",
    "    input_file.close()\n",
    "    \n",
    "    return output_file.read().decode(\"utf-8\") "
   ]
  },
  {
   "cell_type": "code",
   "execution_count": 6,
   "metadata": {},
   "outputs": [
    {
     "name": "stdout",
     "output_type": "stream",
     "text": [
      "CPU times: user 3.06 s, sys: 4.79 s, total: 7.85 s\n",
      "Wall time: 30.2 s\n"
     ]
    }
   ],
   "source": [
    "%%time\n",
    "frames['solution'] = frames['cnf'].apply(get_solution_from_cnf)"
   ]
  },
  {
   "cell_type": "code",
   "execution_count": 45,
   "metadata": {},
   "outputs": [
    {
     "data": {
      "text/plain": [
       "[Text(0,0.5,'Unsatisfiability (%)'),\n",
       " Text(0.5,0,'K-Values (#)'),\n",
       " Text(0.5,1,'Threshold Plotting for Order 9')]"
      ]
     },
     "execution_count": 45,
     "metadata": {},
     "output_type": "execute_result"
    },
    {
     "data": {
      "image/png": "[encoded data removed]",
      "text/plain": [
       "<Figure size 720x360 with 1 Axes>"
      ]
     },
     "metadata": {},
     "output_type": "display_data"
    }
   ],
   "source": [
    "# Dropping unneeded columns and getting the required values\n",
    "frames2 = frames.drop(columns=['board','cnf','n'])\n",
    "frames2 = frames2.loc[frames2['solution'] == 'UNSAT\\n']\n",
    "frames2 = frames2.drop(['solution'])\n",
    "frames2 = frames2.sort_values(by=['k'])\n",
    "\n",
    "unsat = frames2['k'].value_counts()\n",
    "\n",
    "plt = unsat.sort_index().plot(legend=True, figsize=(10,5), grid=True)\n",
    "plt.set(title='Threshold Plotting for Order '+str(SUDOKU_DEGREE),\n",
    "        xlabel='K-Values (#)', ylabel='Unsatisfiability (%)')"
   ]
  },
  {
   "cell_type": "code",
   "execution_count": null,
   "metadata": {},
   "outputs": [],
   "source": []
  },
  {
   "cell_type": "code",
   "execution_count": 97,
   "metadata": {},
   "outputs": [],
   "source": []
  },
  {
   "cell_type": "code",
   "execution_count": 12,
   "metadata": {},
   "outputs": [],
   "source": []
  },
  {
   "cell_type": "code",
   "execution_count": null,
   "metadata": {},
   "outputs": [],
   "source": []
  },
  {
   "cell_type": "raw",
   "metadata": {},
   "source": []
  }
 ],
 "metadata": {
  "kernelspec": {
   "display_name": "Python 3",
   "language": "python",
   "name": "python3"
  },
  "language_info": {
   "codemirror_mode": {
    "name": "ipython",
    "version": 3
   },
   "file_extension": ".py",
   "mimetype": "text/x-python",
   "name": "python",
   "nbconvert_exporter": "python",
   "pygments_lexer": "ipython3",
   "version": "3.5.2"
  }
 },
 "nbformat": 4,
 "nbformat_minor": 2
}
