{
 "cells": [
  {
   "cell_type": "markdown",
   "metadata": {},
   "source": [
    "<h1>Sodoku SAT Solver</h1>\n",
    "<h2>Generating the CNF</h2>"
   ]
  },
  {
   "cell_type": "markdown",
   "metadata": {},
   "source": [
    "Pages referenced:<br>\n",
    "Format for sat solver:<br>\n",
    "https://www-cs-faculty.stanford.edu/~knuth/programs/sat0w.w<br>\n",
    "General information for generating soduku CNFs<br>\n",
    "http://www.cs.cmu.edu/~hjain/papers/sudoku-as-SAT.pdf <br>\n",
    "\n",
    "\n",
    "Variables will be encoded in the form (rcv) where r is the row #, c the column # and v the value<br>\n",
    "Example: 123 denotes a value of 3 in position 1,2"
   ]
  },
  {
   "cell_type": "code",
   "execution_count": 1,
   "metadata": {},
   "outputs": [],
   "source": [
    "import numpy as np\n",
    "import itertools as it\n",
    "#global size\n",
    "degree = 9\n",
    "write_to_file = True\n",
    "print_debug = False"
   ]
  },
  {
   "cell_type": "code",
   "execution_count": 2,
   "metadata": {},
   "outputs": [],
   "source": [
    "if write_to_file:\n",
    "    f = open(\"sudoku{}.cnf\".format(degree), \"w\")"
   ]
  },
  {
   "cell_type": "code",
   "execution_count": 3,
   "metadata": {},
   "outputs": [],
   "source": [
    "#Cell definedness constraints\n",
    "for row in range(degree):\n",
    "    for column in range(degree):\n",
    "        line = \"\"\n",
    "        for value in range(degree):\n",
    "            line += \"{}{}{} \".format(row+1,column+1,value+1)\n",
    "        if print_debug: print(line)\n",
    "        if write_to_file:\n",
    "            f.write(line+' 0\\n')"
   ]
  },
  {
   "cell_type": "code",
   "execution_count": 4,
   "metadata": {},
   "outputs": [],
   "source": [
    "#Cell uniqueness constraints\n",
    "for row in range(degree):\n",
    "    for column in range(degree):\n",
    "        for vi,vj in it.combinations(range(degree),2):\n",
    "            if print_debug: print(\"-{}{}{} -{}{}{} 0\".format(row+1,column+1,vi+1,row+1,column+1,vj+1))\n",
    "            if write_to_file:\n",
    "                f.write(\"-{}{}{} -{}{}{} 0\\n\".format(row+1,column+1,vi+1,row+1,column+1,vj+1))"
   ]
  },
  {
   "cell_type": "code",
   "execution_count": 5,
   "metadata": {},
   "outputs": [],
   "source": [
    "# Row definedness constraints\n",
    "for row in range(degree):\n",
    "    for value in range(degree):\n",
    "        line = \"\"\n",
    "        for column in range(degree):\n",
    "            line += \"{}{}{} \".format(row+1,column+1,value+1)\n",
    "        if print_debug: print(line)\n",
    "        if write_to_file:\n",
    "            f.write(line+' 0\\n')"
   ]
  },
  {
   "cell_type": "code",
   "execution_count": 6,
   "metadata": {},
   "outputs": [],
   "source": [
    "# Row uniqueness constraints\n",
    "for row in range(degree):\n",
    "    for value in range(degree):\n",
    "        for ci,cj in it.combinations(range(degree),2):\n",
    "            line = \"-{}{}{} -{}{}{}\".format(row+1,ci+1,value+1,row+1,cj+1,value+1)\n",
    "            if print_debug: print(line)\n",
    "            if write_to_file:\n",
    "                f.write(line+' 0\\n')"
   ]
  },
  {
   "cell_type": "code",
   "execution_count": 7,
   "metadata": {},
   "outputs": [],
   "source": [
    "# Column definedness constraints\n",
    "for column in range(degree):\n",
    "    for value in range(degree):\n",
    "        line = \"\"\n",
    "        for row in range(degree):\n",
    "            line += \"{}{}{} \".format(row+1,column+1,value+1)\n",
    "        if print_debug: print(line)\n",
    "        if write_to_file:\n",
    "                f.write(line+' 0\\n')        "
   ]
  },
  {
   "cell_type": "code",
   "execution_count": 8,
   "metadata": {},
   "outputs": [],
   "source": [
    "# Column uniqueness constraints\n",
    "for column in range(degree):\n",
    "    for value in range(degree):\n",
    "        for ri,rj in it.combinations(range(degree),2):\n",
    "            line = \"-{}{}{} -{}{}{}\".format(ri+1,column+1,value+1,rj+1,column+1,value+1)\n",
    "            if print_debug: print(line)\n",
    "            if write_to_file:\n",
    "                f.write(line+' 0\\n')"
   ]
  },
  {
   "cell_type": "code",
   "execution_count": 9,
   "metadata": {},
   "outputs": [],
   "source": [
    "# block definedness constraints\n",
    "rootn = int(np.sqrt(degree))\n",
    "for roff in range(rootn):\n",
    "    for coff in range(rootn):\n",
    "        for value in range(degree):\n",
    "            line = \"\"\n",
    "            for row in range(rootn):\n",
    "                for column in range(rootn):\n",
    "                    line += \"{}{}{} \".format(roff*rootn+row+1, coff*rootn+column+1, value+1)\n",
    "            if print_debug: print(line)\n",
    "            if write_to_file:\n",
    "                f.write(line+' 0\\n')"
   ]
  },
  {
   "cell_type": "code",
   "execution_count": 10,
   "metadata": {},
   "outputs": [],
   "source": [
    "# block uniqueness constraints\n",
    "# this differs significant from the paper, whose implementation I cannot get to function correctly\n",
    "\n",
    "rootn = int(np.sqrt(degree))\n",
    "for r in range(rootn):\n",
    "    for c in range(rootn):\n",
    "        for v in range(degree):\n",
    "            square = []\n",
    "            for r1 in range(rootn):\n",
    "                for c1 in range(rootn):\n",
    "                    square.append(\"{}{}\".format(r*rootn+r1+1,c*rootn+c1+1))\n",
    "            for s1, s2 in it.combinations(square,2):\n",
    "                line = \"-{}{} -{}{}\".format(s1,v+1,s2,v+1)\n",
    "                if print_debug: print(\"-{}{} -{}{}\".format(s1+1,v+1,s2+1,v+1))\n",
    "                if write_to_file:\n",
    "                    f.write(line+' 0\\n')        \n"
   ]
  },
  {
   "cell_type": "code",
   "execution_count": 11,
   "metadata": {},
   "outputs": [],
   "source": [
    "if write_to_file:\n",
    "    f.close()"
   ]
  },
  {
   "cell_type": "code",
   "execution_count": null,
   "metadata": {},
   "outputs": [],
   "source": []
  }
 ],
 "metadata": {
  "kernelspec": {
   "display_name": "Python 3",
   "language": "python",
   "name": "python3"
  },
  "language_info": {
   "codemirror_mode": {
    "name": "ipython",
    "version": 3
   },
   "file_extension": ".py",
   "mimetype": "text/x-python",
   "name": "python",
   "nbconvert_exporter": "python",
   "pygments_lexer": "ipython3",
   "version": "3.6.4"
  }
 },
 "nbformat": 4,
 "nbformat_minor": 2
}
