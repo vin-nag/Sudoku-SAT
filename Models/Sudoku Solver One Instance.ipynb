{
 "cells": [
  {
   "cell_type": "markdown",
   "metadata": {},
   "source": [
    "<center> <h1> Sudoku SAT Reduction README</h1> \n",
    "<h3> Project Milestone 5: Implementations of Reduction and Generation </h3>\n",
    "Bishop, Robert; Graves, Caleb; and Nagisetty, Vineel\n",
    "</center>"
   ]
  },
  {
   "cell_type": "markdown",
   "metadata": {},
   "source": [
    "This notebook file is intended to be used as a README as well as an example of how our Reduction and Generator programs work. "
   ]
  },
  {
   "cell_type": "code",
   "execution_count": null,
   "metadata": {},
   "outputs": [],
   "source": [
    "# Import Generation and Reduction programs and other necessary programs for the Solver\n",
    "from Generation import Generator\n",
    "from Reduction import Reducer\n",
    "import subprocess\n",
    "import tempfile"
   ]
  },
  {
   "cell_type": "code",
   "execution_count": null,
   "metadata": {},
   "outputs": [],
   "source": [
    "# Declare variables \n",
    "BOARD_SIZE = 9  # size of the Sudoku board\n",
    "K_VALUE = 4 # number of random values generated\n",
    "PATH_NAME = 'output' # name of the file to store generated board"
   ]
  },
  {
   "cell_type": "code",
   "execution_count": 15,
   "metadata": {},
   "outputs": [
    {
     "name": "stdout",
     "output_type": "stream",
     "text": [
      "Generated Board: \n",
      "0 8 0 | 0 0 0 | 0 0 0  \n",
      "0 0 0 | 4 0 0 | 0 0 0  \n",
      "0 0 0 | 5 0 0 | 0 0 0  \n",
      "------+-------+------\n",
      "0 0 0 | 0 0 0 | 0 0 0  \n",
      "0 0 0 | 0 0 0 | 0 0 0  \n",
      "0 0 0 | 0 0 0 | 0 0 0  \n",
      "------+-------+------\n",
      "0 1 0 | 0 0 0 | 0 0 0  \n",
      "0 0 0 | 0 0 0 | 0 0 0  \n",
      "0 0 0 | 0 0 0 | 0 0 0  \n"
     ]
    }
   ],
   "source": [
    "# Generate a random Sudoku board using Generation file\n",
    "generator = Generator(PATH_NAME, BOARD_SIZE, K_VALUE)\n",
    "generator.generate()"
   ]
  },
  {
   "cell_type": "code",
   "execution_count": 16,
   "metadata": {},
   "outputs": [],
   "source": [
    "# Pass this file name and reduce to CNF using Reduction file\n",
    "reducer = Reducer(PATH_NAME)\n",
    "reducer.create_cnf_file()"
   ]
  },
  {
   "cell_type": "code",
   "execution_count": 5,
   "metadata": {},
   "outputs": [
    {
     "name": "stdout",
     "output_type": "stream",
     "text": [
      "CPU times: user 0 ns, sys: 0 ns, total: 0 ns\n",
      "Wall time: 12.9 µs\n",
      "\n"
     ]
    }
   ],
   "source": [
    "# Create a Solver to test if the cnf file is Satisfiable or Unsatisfiable. \n",
    "# Note that you need minisat on your computer to run this\n",
    "%time\n",
    "\n",
    "bashCommand = 'minisat %s %s' # command to run on the terminal\n",
    "\n",
    "# Our temporary output file \n",
    "output_file = tempfile.NamedTemporaryFile()\n",
    "\n",
    "# Call the bash terminal\n",
    "subprocess.call(bashCommand % (PATH_NAME+\".cnf\", output_file.name), shell=True, stdout = subprocess.PIPE)\n",
    "\n",
    "# Print result\n",
    "print(output_file.read().decode(\"utf-8\"))"
   ]
  },
  {
   "cell_type": "code",
   "execution_count": null,
   "metadata": {},
   "outputs": [],
   "source": []
  }
 ],
 "metadata": {
  "kernelspec": {
   "display_name": "Python 3",
   "language": "python",
   "name": "python3"
  },
  "language_info": {
   "codemirror_mode": {
    "name": "ipython",
    "version": 3
   },
   "file_extension": ".py",
   "mimetype": "text/x-python",
   "name": "python",
   "nbconvert_exporter": "python",
   "pygments_lexer": "ipython3",
   "version": "3.5.2"
  }
 },
 "nbformat": 4,
 "nbformat_minor": 1
}
